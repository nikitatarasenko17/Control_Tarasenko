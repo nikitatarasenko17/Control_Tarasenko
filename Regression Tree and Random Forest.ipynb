{
 "cells": [
  {
   "cell_type": "code",
   "execution_count": 51,
   "metadata": {},
   "outputs": [],
   "source": [
    "# Regression Tree & Random Forest"
   ]
  },
  {
   "cell_type": "code",
   "execution_count": 52,
   "metadata": {},
   "outputs": [],
   "source": [
    "import numpy as np\n",
    "import matplotlib.pyplot as plt\n",
    "import pandas as pd"
   ]
  },
  {
   "cell_type": "code",
   "execution_count": 53,
   "metadata": {},
   "outputs": [],
   "source": [
    "# Importing the dataset\n",
    "df = pd.read_csv('nt_var4_prep.csv', sep=';')"
   ]
  },
  {
   "cell_type": "code",
   "execution_count": 54,
   "metadata": {},
   "outputs": [
    {
     "data": {
      "text/html": [
       "<div>\n",
       "<style scoped>\n",
       "    .dataframe tbody tr th:only-of-type {\n",
       "        vertical-align: middle;\n",
       "    }\n",
       "\n",
       "    .dataframe tbody tr th {\n",
       "        vertical-align: top;\n",
       "    }\n",
       "\n",
       "    .dataframe thead th {\n",
       "        text-align: right;\n",
       "    }\n",
       "</style>\n",
       "<table border=\"1\" class=\"dataframe\">\n",
       "  <thead>\n",
       "    <tr style=\"text-align: right;\">\n",
       "      <th></th>\n",
       "      <th>ActualPower</th>\n",
       "      <th>Max Capacity</th>\n",
       "      <th>Location 2</th>\n",
       "      <th>Location 4</th>\n",
       "      <th>Location 6</th>\n",
       "      <th>Location 8</th>\n",
       "    </tr>\n",
       "  </thead>\n",
       "  <tbody>\n",
       "    <tr>\n",
       "      <th>0</th>\n",
       "      <td>8.491</td>\n",
       "      <td>43.5</td>\n",
       "      <td>0.718</td>\n",
       "      <td>0.970</td>\n",
       "      <td>0.874000</td>\n",
       "      <td>0.902</td>\n",
       "    </tr>\n",
       "    <tr>\n",
       "      <th>1</th>\n",
       "      <td>11.232</td>\n",
       "      <td>43.5</td>\n",
       "      <td>0.776</td>\n",
       "      <td>1.072</td>\n",
       "      <td>0.975000</td>\n",
       "      <td>0.985</td>\n",
       "    </tr>\n",
       "    <tr>\n",
       "      <th>2</th>\n",
       "      <td>8.989</td>\n",
       "      <td>43.5</td>\n",
       "      <td>0.862</td>\n",
       "      <td>1.240</td>\n",
       "      <td>1.122000</td>\n",
       "      <td>1.103</td>\n",
       "    </tr>\n",
       "    <tr>\n",
       "      <th>3</th>\n",
       "      <td>5.969</td>\n",
       "      <td>43.5</td>\n",
       "      <td>0.984</td>\n",
       "      <td>1.448</td>\n",
       "      <td>1.296000</td>\n",
       "      <td>1.230</td>\n",
       "    </tr>\n",
       "    <tr>\n",
       "      <th>4</th>\n",
       "      <td>4.637</td>\n",
       "      <td>43.5</td>\n",
       "      <td>1.116</td>\n",
       "      <td>1.627</td>\n",
       "      <td>1.440000</td>\n",
       "      <td>1.308</td>\n",
       "    </tr>\n",
       "    <tr>\n",
       "      <th>...</th>\n",
       "      <td>...</td>\n",
       "      <td>...</td>\n",
       "      <td>...</td>\n",
       "      <td>...</td>\n",
       "      <td>...</td>\n",
       "      <td>...</td>\n",
       "    </tr>\n",
       "    <tr>\n",
       "      <th>312</th>\n",
       "      <td>27.630</td>\n",
       "      <td>43.5</td>\n",
       "      <td>5.644</td>\n",
       "      <td>5.716</td>\n",
       "      <td>5.061000</td>\n",
       "      <td>4.836</td>\n",
       "    </tr>\n",
       "    <tr>\n",
       "      <th>313</th>\n",
       "      <td>26.432</td>\n",
       "      <td>43.5</td>\n",
       "      <td>6.042</td>\n",
       "      <td>6.137</td>\n",
       "      <td>5.157000</td>\n",
       "      <td>4.750</td>\n",
       "    </tr>\n",
       "    <tr>\n",
       "      <th>314</th>\n",
       "      <td>27.282</td>\n",
       "      <td>43.5</td>\n",
       "      <td>6.573</td>\n",
       "      <td>6.747</td>\n",
       "      <td>7.196924</td>\n",
       "      <td>4.716</td>\n",
       "    </tr>\n",
       "    <tr>\n",
       "      <th>315</th>\n",
       "      <td>28.285</td>\n",
       "      <td>43.5</td>\n",
       "      <td>7.268</td>\n",
       "      <td>7.558</td>\n",
       "      <td>5.693000</td>\n",
       "      <td>4.856</td>\n",
       "    </tr>\n",
       "    <tr>\n",
       "      <th>316</th>\n",
       "      <td>24.898</td>\n",
       "      <td>43.5</td>\n",
       "      <td>8.045</td>\n",
       "      <td>8.475</td>\n",
       "      <td>6.226000</td>\n",
       "      <td>5.056</td>\n",
       "    </tr>\n",
       "  </tbody>\n",
       "</table>\n",
       "<p>317 rows × 6 columns</p>\n",
       "</div>"
      ],
      "text/plain": [
       "     ActualPower  Max Capacity  Location 2  Location 4  Location 6  Location 8\n",
       "0          8.491          43.5       0.718       0.970    0.874000       0.902\n",
       "1         11.232          43.5       0.776       1.072    0.975000       0.985\n",
       "2          8.989          43.5       0.862       1.240    1.122000       1.103\n",
       "3          5.969          43.5       0.984       1.448    1.296000       1.230\n",
       "4          4.637          43.5       1.116       1.627    1.440000       1.308\n",
       "..           ...           ...         ...         ...         ...         ...\n",
       "312       27.630          43.5       5.644       5.716    5.061000       4.836\n",
       "313       26.432          43.5       6.042       6.137    5.157000       4.750\n",
       "314       27.282          43.5       6.573       6.747    7.196924       4.716\n",
       "315       28.285          43.5       7.268       7.558    5.693000       4.856\n",
       "316       24.898          43.5       8.045       8.475    6.226000       5.056\n",
       "\n",
       "[317 rows x 6 columns]"
      ]
     },
     "execution_count": 54,
     "metadata": {},
     "output_type": "execute_result"
    }
   ],
   "source": [
    "df"
   ]
  },
  {
   "cell_type": "code",
   "execution_count": 55,
   "metadata": {},
   "outputs": [],
   "source": [
    "# Splitting the dataset into the Training set and Test set\n",
    "#В качестве объясняемой переменной берём все строки и столбец ActualPower\n",
    "#В качестве объясняющих переменных берём все строки и следующие столбцы: Max Capacity, Location 2, Location 4, Location 6, Location 8\n",
    "#Для проверки прогнозного качества модели разделим все наблюдения на обучающую (80%) и тестовую выборки (20%).\n",
    "X = df.iloc[:, 1:6].values\n",
    "y = df.iloc[:, 0].values\n",
    "from sklearn.model_selection import train_test_split\n",
    "X_train, X_test, y_train, y_test = train_test_split(X, y, test_size=0.2, random_state=0)"
   ]
  },
  {
   "cell_type": "code",
   "execution_count": 56,
   "metadata": {},
   "outputs": [],
   "source": [
    "# Fitting Tree to the Training set (Location 4)\n",
    "# Построение дерева решений от фактора Location 4\n",
    "from sklearn.tree import DecisionTreeRegressor\n",
    "sdt = DecisionTreeRegressor(max_leaf_nodes =10).fit(X_train[:, 2:3], y_train)"
   ]
  },
  {
   "cell_type": "code",
   "execution_count": 57,
   "metadata": {},
   "outputs": [],
   "source": [
    "# Predicting the Test set results\n",
    "y_pred = sdt.predict(X_test[:, 2:3])"
   ]
  },
  {
   "cell_type": "code",
   "execution_count": 58,
   "metadata": {},
   "outputs": [
    {
     "data": {
      "text/plain": [
       "(0.33381242179118653, 0.04137529828865749)"
      ]
     },
     "execution_count": 58,
     "metadata": {},
     "output_type": "execute_result"
    }
   ],
   "source": [
    "#Coefficient of determination R^2\n",
    "train_mod = []\n",
    "train_mod.append(sdt.score(X_train[:, 2:3], y_train))\n",
    "test_mod = []\n",
    "test_mod.append(sdt.score(X_test[:, 2:3], y_test))\n",
    "sdt.score(X_train[:, 2:3], y_train), sdt.score(X_test[:, 2:3], y_test)\n",
    "#Коэффициент детерминации на обучающей выборке (0,33) больше, чем на тестовой (0,04).Качество модели очень низкое."
   ]
  },
  {
   "cell_type": "code",
   "execution_count": 59,
   "metadata": {},
   "outputs": [
    {
     "data": {
      "text/plain": [
       "(82.3363693045632, 111.30873386134988)"
      ]
     },
     "execution_count": 59,
     "metadata": {},
     "output_type": "execute_result"
    }
   ],
   "source": [
    "# Mean squared error\n",
    "from sklearn.metrics import mean_squared_error\n",
    "train_mse =[]\n",
    "train_mse.append(mean_squared_error(y_train, sdt.predict(X_train[:, 2:3])))\n",
    "test_mse = []\n",
    "test_mse.append(mean_squared_error(y_test, y_pred))\n",
    "mean_squared_error(y_train, sdt.predict(X_train[:, 2:3])), mean_squared_error(y_test, y_pred)"
   ]
  },
  {
   "cell_type": "code",
   "execution_count": 60,
   "metadata": {},
   "outputs": [
    {
     "data": {
      "image/png": "[encoded data removed]",
      "text/plain": [
       "<Figure size 432x288 with 1 Axes>"
      ]
     },
     "metadata": {
      "needs_background": "light"
     },
     "output_type": "display_data"
    }
   ],
   "source": [
    "# Visualising the Training set results\n",
    "X_grid = np.arange(min(X[:, 2:3]), max(X[:, 2:3]), 0.01)\n",
    "X_grid = X_grid.reshape((len(X_grid), 1))\n",
    "plt.plot(X_grid, sdt.predict(X_grid), color = 'blue')\n",
    "plt.scatter(X_train[:,2], y_train, color = 'red')\n",
    "plt.plot(X_train[:,2], sdt.predict(X_train[:, 2:3]), 'bo')\n",
    "plt.title('ActualPower vs Location 4 (Training set)')\n",
    "plt.xlabel('Location 4')\n",
    "plt.ylabel('ActualPower')\n",
    "plt.show()"
   ]
  },
  {
   "cell_type": "code",
   "execution_count": 61,
   "metadata": {},
   "outputs": [
    {
     "data": {
      "image/png": "[encoded data removed]",
      "text/plain": [
       "<Figure size 432x288 with 1 Axes>"
      ]
     },
     "metadata": {
      "needs_background": "light"
     },
     "output_type": "display_data"
    }
   ],
   "source": [
    "# Visualising the Test set results\n",
    "X_grid = np.arange(min(X[:, 2:3]), max(X[:, 2:3]), 0.01)\n",
    "X_grid = X_grid.reshape((len(X_grid), 1))\n",
    "plt.plot(X_grid, sdt.predict(X_grid), color = 'blue')\n",
    "plt.scatter(X_test[:,2], y_test, color = 'red')\n",
    "plt.plot(X_test[:,2], sdt.predict(X_test[:, 2:3]), 'bo')\n",
    "plt.title('ActualPower vs Location 4 (Test set)')\n",
    "plt.xlabel('Location 4')\n",
    "plt.ylabel('ActualPower')\n",
    "plt.show()"
   ]
  },
  {
   "cell_type": "code",
   "execution_count": 62,
   "metadata": {},
   "outputs": [],
   "source": [
    "# Fitting Tree to the Training set \n",
    "# Построение дерева решений на всех объясняющих переменных\n",
    "from sklearn.tree import DecisionTreeRegressor\n",
    "dt = DecisionTreeRegressor(max_leaf_nodes=5).fit(X_train, y_train)"
   ]
  },
  {
   "cell_type": "code",
   "execution_count": 63,
   "metadata": {},
   "outputs": [],
   "source": [
    "# Predicting the Test set results\n",
    "y_pred = dt.predict(X_test)"
   ]
  },
  {
   "cell_type": "code",
   "execution_count": 64,
   "metadata": {},
   "outputs": [
    {
     "data": {
      "text/plain": [
       "(0.4974172561980619, 0.21702962871408005)"
      ]
     },
     "execution_count": 64,
     "metadata": {},
     "output_type": "execute_result"
    }
   ],
   "source": [
    "# Coefficient of determination R^2\n",
    "# В модели дерева решений на всех объясняющих переменных коэффициент детерминации выше и на обучающей и на тестовой выборке. Модель является\n",
    "#переобученной, так как коэффициент детерминации на обучающей выборке  выше, чем на тестовой\n",
    "train_mod.append(dt.score(X_train, y_train))\n",
    "test_mod.append(dt.score(X_test, y_test))\n",
    "dt.score(X_train, y_train), dt.score(X_test, y_test)"
   ]
  },
  {
   "cell_type": "code",
   "execution_count": 65,
   "metadata": {},
   "outputs": [
    {
     "data": {
      "text/plain": [
       "(62.115896112980984, 90.91299287740395)"
      ]
     },
     "execution_count": 65,
     "metadata": {},
     "output_type": "execute_result"
    }
   ],
   "source": [
    "# Mean squared error\n",
    "from sklearn.metrics import mean_squared_error\n",
    "train_mse.append(mean_squared_error(y_train, dt.predict(X_train)))\n",
    "test_mse.append(mean_squared_error(y_test, y_pred))\n",
    "mean_squared_error(y_train, dt.predict(X_train)), mean_squared_error(y_test, y_pred)\n",
    "# В модели дерева решений на всех объясняющих переменных среднеквадратическая ошибка ниже и на обучающей и на тестовой выборке."
   ]
  },
  {
   "cell_type": "code",
   "execution_count": 66,
   "metadata": {},
   "outputs": [
    {
     "data": {
      "image/png": "[encoded data removed]",
      "text/plain": [
       "<Figure size 432x288 with 1 Axes>"
      ]
     },
     "metadata": {
      "needs_background": "light"
     },
     "output_type": "display_data"
    }
   ],
   "source": [
    "# Visualising the Training set results\n",
    "plt.scatter(X_train[:,2], y_train, color = 'red')\n",
    "plt.plot(X_train[:,2], dt.predict(X_train), 'bo')\n",
    "plt.title('ActualPower vs Location 4 (Training set)')\n",
    "plt.xlabel('Location 4')\n",
    "plt.ylabel('ActualPower')\n",
    "plt.show()"
   ]
  },
  {
   "cell_type": "code",
   "execution_count": 67,
   "metadata": {},
   "outputs": [
    {
     "data": {
      "image/png": "[encoded data removed]",
      "text/plain": [
       "<Figure size 432x288 with 1 Axes>"
      ]
     },
     "metadata": {
      "needs_background": "light"
     },
     "output_type": "display_data"
    }
   ],
   "source": [
    "# Visualising the Test set results\n",
    "plt.scatter(X_test[:,2], y_test, color = 'red')\n",
    "plt.plot(X_test[:,2], dt.predict(X_test), 'bo')\n",
    "plt.title('ActualPower vs Location 4 (Test set)')\n",
    "plt.xlabel('Location 4')\n",
    "plt.ylabel('ActualPower')\n",
    "plt.show()"
   ]
  },
  {
   "cell_type": "code",
   "execution_count": 68,
   "metadata": {},
   "outputs": [],
   "source": [
    "# Fitting Random Forest to the Training set\n",
    "# Построение случайного леса на всех объясняющих переменных\n",
    "from sklearn.ensemble import RandomForestRegressor\n",
    "rf = RandomForestRegressor(n_estimators = 8, random_state = 0).fit(X_train, y_train)"
   ]
  },
  {
   "cell_type": "code",
   "execution_count": 69,
   "metadata": {},
   "outputs": [],
   "source": [
    "# Predicting the Test set results\n",
    "y_pred = rf.predict(X_test)"
   ]
  },
  {
   "cell_type": "code",
   "execution_count": 70,
   "metadata": {},
   "outputs": [],
   "source": [
    "# Predicting the Test set results\n",
    "y_pred = rf.predict(X_test)"
   ]
  },
  {
   "cell_type": "code",
   "execution_count": 71,
   "metadata": {},
   "outputs": [
    {
     "data": {
      "text/plain": [
       "(0.9326466150602543, 0.36784535979261546)"
      ]
     },
     "execution_count": 71,
     "metadata": {},
     "output_type": "execute_result"
    }
   ],
   "source": [
    "# Coefficient of determination R^2\n",
    "train_mod.append(rf.score(X_train, y_train))\n",
    "test_mod.append(rf.score(X_test, y_test))\n",
    "rf.score(X_train, y_train), rf.score(X_test, y_test)\n",
    "# В модели случайного леса,построеннгой на всех объясняющих переменных коэффициент детерминации выше и на обучающей и на тестовой выборке,\n",
    "# чем в модели дерева решений\n",
    "# Модель является переобученной, так как коэффициент детерминации на обучающей выборке  выше, чем на тестовой"
   ]
  },
  {
   "cell_type": "code",
   "execution_count": 72,
   "metadata": {},
   "outputs": [
    {
     "data": {
      "text/plain": [
       "(8.324431973381916, 73.40133472509766)"
      ]
     },
     "execution_count": 72,
     "metadata": {},
     "output_type": "execute_result"
    }
   ],
   "source": [
    "# Mean squared error\n",
    "from sklearn.metrics import mean_squared_error\n",
    "train_mse.append(mean_squared_error(y_train, dt.predict(X_train)))\n",
    "test_mse.append(mean_squared_error(y_test, y_pred))\n",
    "mean_squared_error(y_train, rf.predict(X_train)), mean_squared_error(y_test, y_pred)"
   ]
  },
  {
   "cell_type": "code",
   "execution_count": 73,
   "metadata": {},
   "outputs": [
    {
     "data": {
      "image/png": "[encoded data removed]",
      "text/plain": [
       "<Figure size 432x288 with 1 Axes>"
      ]
     },
     "metadata": {
      "needs_background": "light"
     },
     "output_type": "display_data"
    }
   ],
   "source": [
    "# Visualising the Training set results\n",
    "plt.scatter(X_train[:,2], y_train, color = 'red')\n",
    "plt.plot(X_train[:,2], rf.predict(X_train), 'bo')\n",
    "plt.title('ActualPower vs Location 4 (Training set)')\n",
    "plt.xlabel('Location 4')\n",
    "plt.ylabel('ActualPower')\n",
    "plt.show()"
   ]
  },
  {
   "cell_type": "code",
   "execution_count": 74,
   "metadata": {},
   "outputs": [
    {
     "data": {
      "image/png": "[encoded data removed]",
      "text/plain": [
       "<Figure size 432x288 with 1 Axes>"
      ]
     },
     "metadata": {
      "needs_background": "light"
     },
     "output_type": "display_data"
    }
   ],
   "source": [
    "# Visualising the Test set results\n",
    "plt.scatter(X_test[:,2], y_test, color = 'red')\n",
    "plt.plot(X_test[:,2], rf.predict(X_test), 'bo')\n",
    "plt.title('ActualPower vs Location 4 (Test set)')\n",
    "plt.xlabel('Location 4')\n",
    "plt.ylabel('ActualPower')\n",
    "plt.show()"
   ]
  },
  {
   "cell_type": "code",
   "execution_count": 75,
   "metadata": {},
   "outputs": [],
   "source": [
    "# Fitting Tree to the Training set (with optimized factors)\n",
    "# Построение дерева решений на наиболее значимых факторах : Max Capacity, Location 4, Location 6\n",
    "from sklearn.tree import DecisionTreeRegressor\n",
    "dl = DecisionTreeRegressor(max_leaf_nodes = 5).fit(X_train[:, [0,2,3]], y_train)"
   ]
  },
  {
   "cell_type": "code",
   "execution_count": 76,
   "metadata": {},
   "outputs": [],
   "source": [
    "# Predicting the Test set results\n",
    "y_pred = dl.predict(X_test[:, [0,2,3]])"
   ]
  },
  {
   "cell_type": "code",
   "execution_count": 77,
   "metadata": {},
   "outputs": [
    {
     "data": {
      "text/plain": [
       "(0.456998538225035, 0.1881180054205912)"
      ]
     },
     "execution_count": 77,
     "metadata": {},
     "output_type": "execute_result"
    }
   ],
   "source": [
    "# Coefficient of determination R^2\n",
    "train_mod.append(dl.score(X_train[:, [0,2,3]], y_train))\n",
    "test_mod.append(dl.score(X_test[:, [0,2,3]], y_test))\n",
    "dl.score(X_train[:, [0,2,3]], y_train), dl.score(X_test[:, [0,2,3]], y_test)\n",
    "# Коэффициент детерминации ниже, чем в модели случайного леса"
   ]
  },
  {
   "cell_type": "code",
   "execution_count": 78,
   "metadata": {},
   "outputs": [
    {
     "data": {
      "text/plain": [
       "(67.1113817670245, 94.27000650007562)"
      ]
     },
     "execution_count": 78,
     "metadata": {},
     "output_type": "execute_result"
    }
   ],
   "source": [
    "# Mean squared error\n",
    "from sklearn.metrics import mean_squared_error\n",
    "train_mse.append(mean_squared_error(y_train, dl.predict(X_train[:, [0,2,3]])))\n",
    "test_mse.append(mean_squared_error(y_test, y_pred))\n",
    "mean_squared_error(y_train, dl.predict(X_train[:, [0,2,3]])), mean_squared_error(y_test, y_pred)\n",
    "# Среднеквадратическая ошибка выше, чем в модели случайного леса"
   ]
  },
  {
   "cell_type": "code",
   "execution_count": 79,
   "metadata": {},
   "outputs": [
    {
     "data": {
      "image/png": "[encoded data removed]",
      "text/plain": [
       "<Figure size 432x288 with 1 Axes>"
      ]
     },
     "metadata": {
      "needs_background": "light"
     },
     "output_type": "display_data"
    }
   ],
   "source": [
    "# Visualising the Training set results\n",
    "plt.scatter(X_train[:,2], y_train, color = 'red')\n",
    "plt.plot(X_train[:,2], dl.predict(X_train[:, [0,2,3]]), 'bo')\n",
    "plt.title('ActualPower vs Location 4 (Training set)')\n",
    "plt.xlabel('Location 4')\n",
    "plt.ylabel('ActualPower')\n",
    "plt.show()"
   ]
  },
  {
   "cell_type": "code",
   "execution_count": 80,
   "metadata": {},
   "outputs": [
    {
     "data": {
      "image/png": "[encoded data removed]",
      "text/plain": [
       "<Figure size 432x288 with 1 Axes>"
      ]
     },
     "metadata": {
      "needs_background": "light"
     },
     "output_type": "display_data"
    }
   ],
   "source": [
    "# Visualising the Test set results\n",
    "plt.scatter(X_test[:,2], y_test, color = 'red')\n",
    "plt.plot(X_test[:,2], dl.predict(X_test[:, [0,2,3]]), 'bo')\n",
    "plt.title('ActualPower vs Location 4 (Test set)')\n",
    "plt.xlabel('Location 4')\n",
    "plt.ylabel('ActualPower')\n",
    "plt.show()"
   ]
  },
  {
   "cell_type": "code",
   "execution_count": 39,
   "metadata": {},
   "outputs": [
    {
     "data": {
      "text/html": [
       "<div>\n",
       "<style scoped>\n",
       "    .dataframe tbody tr th:only-of-type {\n",
       "        vertical-align: middle;\n",
       "    }\n",
       "\n",
       "    .dataframe tbody tr th {\n",
       "        vertical-align: top;\n",
       "    }\n",
       "\n",
       "    .dataframe thead th {\n",
       "        text-align: right;\n",
       "    }\n",
       "</style>\n",
       "<table border=\"1\" class=\"dataframe\">\n",
       "  <thead>\n",
       "    <tr style=\"text-align: right;\">\n",
       "      <th></th>\n",
       "      <th>model</th>\n",
       "      <th>train_r2</th>\n",
       "      <th>test_r2</th>\n",
       "      <th>train_mse</th>\n",
       "      <th>test_mse</th>\n",
       "    </tr>\n",
       "  </thead>\n",
       "  <tbody>\n",
       "    <tr>\n",
       "      <th>0</th>\n",
       "      <td>sdt</td>\n",
       "      <td>0.333812</td>\n",
       "      <td>0.041375</td>\n",
       "      <td>82.336369</td>\n",
       "      <td>111.308734</td>\n",
       "    </tr>\n",
       "    <tr>\n",
       "      <th>1</th>\n",
       "      <td>dt</td>\n",
       "      <td>0.497417</td>\n",
       "      <td>0.217030</td>\n",
       "      <td>62.115896</td>\n",
       "      <td>90.912993</td>\n",
       "    </tr>\n",
       "    <tr>\n",
       "      <th>2</th>\n",
       "      <td>rf</td>\n",
       "      <td>0.932647</td>\n",
       "      <td>0.367845</td>\n",
       "      <td>62.115896</td>\n",
       "      <td>73.401335</td>\n",
       "    </tr>\n",
       "    <tr>\n",
       "      <th>3</th>\n",
       "      <td>dl</td>\n",
       "      <td>0.456999</td>\n",
       "      <td>0.188118</td>\n",
       "      <td>67.111382</td>\n",
       "      <td>94.270007</td>\n",
       "    </tr>\n",
       "  </tbody>\n",
       "</table>\n",
       "</div>"
      ],
      "text/plain": [
       "  model  train_r2   test_r2  train_mse    test_mse\n",
       "0   sdt  0.333812  0.041375  82.336369  111.308734\n",
       "1    dt  0.497417  0.217030  62.115896   90.912993\n",
       "2    rf  0.932647  0.367845  62.115896   73.401335\n",
       "3    dl  0.456999  0.188118  67.111382   94.270007"
      ]
     },
     "execution_count": 39,
     "metadata": {},
     "output_type": "execute_result"
    }
   ],
   "source": [
    "# Creating dataset with metrics\n",
    "model=['sdt', 'dt', 'rf', 'dl']\n",
    "metrics_df=pd.DataFrame()\n",
    "metrics_df['model']=model\n",
    "metrics_df['train_r2']=train_mod\n",
    "metrics_df['test_r2']=test_mod\n",
    "metrics_df['train_mse']=train_mse\n",
    "metrics_df['test_mse']=test_mse\n",
    "metrics_df"
   ]
  },
  {
   "cell_type": "code",
   "execution_count": 40,
   "metadata": {},
   "outputs": [],
   "source": [
    "#Лучшей моделью из всех рассмотренных с наибольшим коэффициентом детерминации на обучающей и тестовой выборке, а также наименьшей \n",
    "#среднеквадратической ошибкой на обучающей и тестовой выборке является модель случайного леса."
   ]
  }
 ],
 "metadata": {
  "kernelspec": {
   "display_name": "Python 3",
   "language": "python",
   "name": "python3"
  },
  "language_info": {
   "codemirror_mode": {
    "name": "ipython",
    "version": 3
   },
   "file_extension": ".py",
   "mimetype": "text/x-python",
   "name": "python",
   "nbconvert_exporter": "python",
   "pygments_lexer": "ipython3",
   "version": "3.8.3"
  }
 },
 "nbformat": 4,
 "nbformat_minor": 4
}
