{
 "cells": [
  {
   "cell_type": "code",
   "execution_count": 1,
   "metadata": {},
   "outputs": [],
   "source": [
    "#Для получения осмысленных результатов модели машинного обучения необходимо выполнить предварительную подготовку данных.\n",
    "# Importing the libraries\n",
    "import numpy as np\n",
    "import matplotlib.pyplot as plt\n",
    "import pandas as pd"
   ]
  },
  {
   "cell_type": "code",
   "execution_count": 2,
   "metadata": {},
   "outputs": [],
   "source": [
    "# Importing the dataset\n",
    "df = pd.read_excel('nt_var4.xlsx', encoding='ISO-8859-1')"
   ]
  },
  {
   "cell_type": "code",
   "execution_count": 3,
   "metadata": {},
   "outputs": [
    {
     "data": {
      "text/html": [
       "<div>\n",
       "<style scoped>\n",
       "    .dataframe tbody tr th:only-of-type {\n",
       "        vertical-align: middle;\n",
       "    }\n",
       "\n",
       "    .dataframe tbody tr th {\n",
       "        vertical-align: top;\n",
       "    }\n",
       "\n",
       "    .dataframe thead th {\n",
       "        text-align: right;\n",
       "    }\n",
       "</style>\n",
       "<table border=\"1\" class=\"dataframe\">\n",
       "  <thead>\n",
       "    <tr style=\"text-align: right;\">\n",
       "      <th></th>\n",
       "      <th>ActualPower</th>\n",
       "      <th>Max Capacity</th>\n",
       "      <th>Location 2</th>\n",
       "      <th>Location 4</th>\n",
       "      <th>Location 6</th>\n",
       "      <th>Location 8</th>\n",
       "    </tr>\n",
       "  </thead>\n",
       "  <tbody>\n",
       "    <tr>\n",
       "      <th>0</th>\n",
       "      <td>8.491</td>\n",
       "      <td>43.5</td>\n",
       "      <td>0.718</td>\n",
       "      <td>0.970</td>\n",
       "      <td>0.874</td>\n",
       "      <td>0.902</td>\n",
       "    </tr>\n",
       "    <tr>\n",
       "      <th>1</th>\n",
       "      <td>11.232</td>\n",
       "      <td>43.5</td>\n",
       "      <td>0.776</td>\n",
       "      <td>1.072</td>\n",
       "      <td>0.975</td>\n",
       "      <td>0.985</td>\n",
       "    </tr>\n",
       "    <tr>\n",
       "      <th>2</th>\n",
       "      <td>8.989</td>\n",
       "      <td>43.5</td>\n",
       "      <td>0.862</td>\n",
       "      <td>1.240</td>\n",
       "      <td>1.122</td>\n",
       "      <td>1.103</td>\n",
       "    </tr>\n",
       "    <tr>\n",
       "      <th>3</th>\n",
       "      <td>5.969</td>\n",
       "      <td>43.5</td>\n",
       "      <td>0.984</td>\n",
       "      <td>1.448</td>\n",
       "      <td>1.296</td>\n",
       "      <td>1.230</td>\n",
       "    </tr>\n",
       "    <tr>\n",
       "      <th>4</th>\n",
       "      <td>4.637</td>\n",
       "      <td>43.5</td>\n",
       "      <td>1.116</td>\n",
       "      <td>1.627</td>\n",
       "      <td>1.440</td>\n",
       "      <td>1.308</td>\n",
       "    </tr>\n",
       "    <tr>\n",
       "      <th>...</th>\n",
       "      <td>...</td>\n",
       "      <td>...</td>\n",
       "      <td>...</td>\n",
       "      <td>...</td>\n",
       "      <td>...</td>\n",
       "      <td>...</td>\n",
       "    </tr>\n",
       "    <tr>\n",
       "      <th>312</th>\n",
       "      <td>27.630</td>\n",
       "      <td>43.5</td>\n",
       "      <td>5.644</td>\n",
       "      <td>5.716</td>\n",
       "      <td>5.061</td>\n",
       "      <td>4.836</td>\n",
       "    </tr>\n",
       "    <tr>\n",
       "      <th>313</th>\n",
       "      <td>26.432</td>\n",
       "      <td>43.5</td>\n",
       "      <td>6.042</td>\n",
       "      <td>6.137</td>\n",
       "      <td>5.157</td>\n",
       "      <td>4.750</td>\n",
       "    </tr>\n",
       "    <tr>\n",
       "      <th>314</th>\n",
       "      <td>27.282</td>\n",
       "      <td>43.5</td>\n",
       "      <td>6.573</td>\n",
       "      <td>6.747</td>\n",
       "      <td>NaN</td>\n",
       "      <td>4.716</td>\n",
       "    </tr>\n",
       "    <tr>\n",
       "      <th>315</th>\n",
       "      <td>28.285</td>\n",
       "      <td>43.5</td>\n",
       "      <td>7.268</td>\n",
       "      <td>7.558</td>\n",
       "      <td>5.693</td>\n",
       "      <td>4.856</td>\n",
       "    </tr>\n",
       "    <tr>\n",
       "      <th>316</th>\n",
       "      <td>24.898</td>\n",
       "      <td>43.5</td>\n",
       "      <td>8.045</td>\n",
       "      <td>8.475</td>\n",
       "      <td>6.226</td>\n",
       "      <td>5.056</td>\n",
       "    </tr>\n",
       "  </tbody>\n",
       "</table>\n",
       "<p>317 rows × 6 columns</p>\n",
       "</div>"
      ],
      "text/plain": [
       "     ActualPower  Max Capacity  Location 2  Location 4  Location 6  Location 8\n",
       "0          8.491          43.5       0.718       0.970       0.874       0.902\n",
       "1         11.232          43.5       0.776       1.072       0.975       0.985\n",
       "2          8.989          43.5       0.862       1.240       1.122       1.103\n",
       "3          5.969          43.5       0.984       1.448       1.296       1.230\n",
       "4          4.637          43.5       1.116       1.627       1.440       1.308\n",
       "..           ...           ...         ...         ...         ...         ...\n",
       "312       27.630          43.5       5.644       5.716       5.061       4.836\n",
       "313       26.432          43.5       6.042       6.137       5.157       4.750\n",
       "314       27.282          43.5       6.573       6.747         NaN       4.716\n",
       "315       28.285          43.5       7.268       7.558       5.693       4.856\n",
       "316       24.898          43.5       8.045       8.475       6.226       5.056\n",
       "\n",
       "[317 rows x 6 columns]"
      ]
     },
     "execution_count": 3,
     "metadata": {},
     "output_type": "execute_result"
    }
   ],
   "source": [
    "#Вывод датасета на экран\n",
    "df"
   ]
  },
  {
   "cell_type": "code",
   "execution_count": 4,
   "metadata": {},
   "outputs": [],
   "source": [
    "# Построим графики распределения"
   ]
  },
  {
   "cell_type": "code",
   "execution_count": 5,
   "metadata": {},
   "outputs": [
    {
     "data": {
      "text/plain": [
       "<matplotlib.axes._subplots.AxesSubplot at 0x1ec86e518e0>"
      ]
     },
     "execution_count": 5,
     "metadata": {},
     "output_type": "execute_result"
    },
    {
     "data": {
      "image/png": "[encoded data removed]",
      "text/plain": [
       "<Figure size 432x288 with 1 Axes>"
      ]
     },
     "metadata": {
      "needs_background": "light"
     },
     "output_type": "display_data"
    }
   ],
   "source": [
    "# ActualPower distribution\n",
    "df['ActualPower'].plot(kind = 'hist')"
   ]
  },
  {
   "cell_type": "code",
   "execution_count": 6,
   "metadata": {},
   "outputs": [
    {
     "data": {
      "text/plain": [
       "<matplotlib.axes._subplots.AxesSubplot at 0x1ec875c01c0>"
      ]
     },
     "execution_count": 6,
     "metadata": {},
     "output_type": "execute_result"
    },
    {
     "data": {
      "image/png": "[encoded data removed]",
      "text/plain": [
       "<Figure size 432x288 with 1 Axes>"
      ]
     },
     "metadata": {
      "needs_background": "light"
     },
     "output_type": "display_data"
    }
   ],
   "source": [
    "# Max Capacity distribution\n",
    "distribution = df['Max Capacity'].value_counts()\n",
    "distribution.plot(kind='bar')"
   ]
  },
  {
   "cell_type": "code",
   "execution_count": 7,
   "metadata": {},
   "outputs": [
    {
     "data": {
      "text/plain": [
       "<matplotlib.axes._subplots.AxesSubplot at 0x1ec876307f0>"
      ]
     },
     "execution_count": 7,
     "metadata": {},
     "output_type": "execute_result"
    },
    {
     "data": {
      "image/png": "[encoded data removed]",
      "text/plain": [
       "<Figure size 432x288 with 1 Axes>"
      ]
     },
     "metadata": {
      "needs_background": "light"
     },
     "output_type": "display_data"
    }
   ],
   "source": [
    "# Location 2 distribution\n",
    "df['Location 2'].plot(kind = 'hist')"
   ]
  },
  {
   "cell_type": "code",
   "execution_count": 8,
   "metadata": {},
   "outputs": [
    {
     "data": {
      "text/plain": [
       "<matplotlib.axes._subplots.AxesSubplot at 0x1ec876a02b0>"
      ]
     },
     "execution_count": 8,
     "metadata": {},
     "output_type": "execute_result"
    },
    {
     "data": {
      "image/png": "[encoded data removed]",
      "text/plain": [
       "<Figure size 432x288 with 1 Axes>"
      ]
     },
     "metadata": {
      "needs_background": "light"
     },
     "output_type": "display_data"
    }
   ],
   "source": [
    "# Location 4 distribution\n",
    "df['Location 4'].plot(kind = 'hist')"
   ]
  },
  {
   "cell_type": "code",
   "execution_count": 9,
   "metadata": {},
   "outputs": [
    {
     "data": {
      "text/plain": [
       "<matplotlib.axes._subplots.AxesSubplot at 0x1ec877104f0>"
      ]
     },
     "execution_count": 9,
     "metadata": {},
     "output_type": "execute_result"
    },
    {
     "data": {
      "image/png": "[encoded data removed]",
      "text/plain": [
       "<Figure size 432x288 with 1 Axes>"
      ]
     },
     "metadata": {
      "needs_background": "light"
     },
     "output_type": "display_data"
    }
   ],
   "source": [
    "# Location 6 distribution\n",
    "df['Location 6'].plot(kind = 'hist')"
   ]
  },
  {
   "cell_type": "code",
   "execution_count": 10,
   "metadata": {},
   "outputs": [
    {
     "data": {
      "text/plain": [
       "<matplotlib.axes._subplots.AxesSubplot at 0x1ec87778700>"
      ]
     },
     "execution_count": 10,
     "metadata": {},
     "output_type": "execute_result"
    },
    {
     "data": {
      "image/png": "[encoded data removed]",
      "text/plain": [
       "<Figure size 432x288 with 1 Axes>"
      ]
     },
     "metadata": {
      "needs_background": "light"
     },
     "output_type": "display_data"
    }
   ],
   "source": [
    "# Location 8 distribution\n",
    "df['Location 8'].plot(kind = 'hist')"
   ]
  },
  {
   "cell_type": "code",
   "execution_count": 11,
   "metadata": {},
   "outputs": [
    {
     "data": {
      "text/html": [
       "<div>\n",
       "<style scoped>\n",
       "    .dataframe tbody tr th:only-of-type {\n",
       "        vertical-align: middle;\n",
       "    }\n",
       "\n",
       "    .dataframe tbody tr th {\n",
       "        vertical-align: top;\n",
       "    }\n",
       "\n",
       "    .dataframe thead th {\n",
       "        text-align: right;\n",
       "    }\n",
       "</style>\n",
       "<table border=\"1\" class=\"dataframe\">\n",
       "  <thead>\n",
       "    <tr style=\"text-align: right;\">\n",
       "      <th></th>\n",
       "      <th>ActualPower</th>\n",
       "      <th>Max Capacity</th>\n",
       "      <th>Location 2</th>\n",
       "      <th>Location 4</th>\n",
       "      <th>Location 6</th>\n",
       "      <th>Location 8</th>\n",
       "    </tr>\n",
       "  </thead>\n",
       "  <tbody>\n",
       "    <tr>\n",
       "      <th>count</th>\n",
       "      <td>317.00000</td>\n",
       "      <td>316.000000</td>\n",
       "      <td>316.000000</td>\n",
       "      <td>317.000000</td>\n",
       "      <td>315.000000</td>\n",
       "      <td>317.000000</td>\n",
       "    </tr>\n",
       "    <tr>\n",
       "      <th>mean</th>\n",
       "      <td>16.72524</td>\n",
       "      <td>43.112342</td>\n",
       "      <td>7.445636</td>\n",
       "      <td>7.445454</td>\n",
       "      <td>7.196924</td>\n",
       "      <td>6.420155</td>\n",
       "    </tr>\n",
       "    <tr>\n",
       "      <th>std</th>\n",
       "      <td>11.14796</td>\n",
       "      <td>0.781760</td>\n",
       "      <td>2.783400</td>\n",
       "      <td>2.740947</td>\n",
       "      <td>2.707073</td>\n",
       "      <td>2.633336</td>\n",
       "    </tr>\n",
       "    <tr>\n",
       "      <th>min</th>\n",
       "      <td>0.02200</td>\n",
       "      <td>40.500000</td>\n",
       "      <td>0.718000</td>\n",
       "      <td>0.812000</td>\n",
       "      <td>0.670000</td>\n",
       "      <td>0.000000</td>\n",
       "    </tr>\n",
       "    <tr>\n",
       "      <th>25%</th>\n",
       "      <td>8.04800</td>\n",
       "      <td>42.000000</td>\n",
       "      <td>7.065750</td>\n",
       "      <td>7.029000</td>\n",
       "      <td>6.874500</td>\n",
       "      <td>5.453000</td>\n",
       "    </tr>\n",
       "    <tr>\n",
       "      <th>50%</th>\n",
       "      <td>15.50300</td>\n",
       "      <td>43.500000</td>\n",
       "      <td>8.017500</td>\n",
       "      <td>8.158000</td>\n",
       "      <td>7.842000</td>\n",
       "      <td>6.865000</td>\n",
       "    </tr>\n",
       "    <tr>\n",
       "      <th>75%</th>\n",
       "      <td>26.47500</td>\n",
       "      <td>43.500000</td>\n",
       "      <td>9.082000</td>\n",
       "      <td>9.073000</td>\n",
       "      <td>8.685500</td>\n",
       "      <td>7.903000</td>\n",
       "    </tr>\n",
       "    <tr>\n",
       "      <th>max</th>\n",
       "      <td>40.30300</td>\n",
       "      <td>45.000000</td>\n",
       "      <td>13.449000</td>\n",
       "      <td>13.118000</td>\n",
       "      <td>13.018000</td>\n",
       "      <td>13.014000</td>\n",
       "    </tr>\n",
       "  </tbody>\n",
       "</table>\n",
       "</div>"
      ],
      "text/plain": [
       "       ActualPower  Max Capacity  Location 2  Location 4  Location 6  \\\n",
       "count    317.00000    316.000000  316.000000  317.000000  315.000000   \n",
       "mean      16.72524     43.112342    7.445636    7.445454    7.196924   \n",
       "std       11.14796      0.781760    2.783400    2.740947    2.707073   \n",
       "min        0.02200     40.500000    0.718000    0.812000    0.670000   \n",
       "25%        8.04800     42.000000    7.065750    7.029000    6.874500   \n",
       "50%       15.50300     43.500000    8.017500    8.158000    7.842000   \n",
       "75%       26.47500     43.500000    9.082000    9.073000    8.685500   \n",
       "max       40.30300     45.000000   13.449000   13.118000   13.018000   \n",
       "\n",
       "       Location 8  \n",
       "count  317.000000  \n",
       "mean     6.420155  \n",
       "std      2.633336  \n",
       "min      0.000000  \n",
       "25%      5.453000  \n",
       "50%      6.865000  \n",
       "75%      7.903000  \n",
       "max     13.014000  "
      ]
     },
     "execution_count": 11,
     "metadata": {},
     "output_type": "execute_result"
    }
   ],
   "source": [
    "df.describe()"
   ]
  },
  {
   "cell_type": "code",
   "execution_count": 12,
   "metadata": {},
   "outputs": [],
   "source": [
    "#По каждой переменной видим различные параметры: количество записей \n",
    "#(count), средние значения (mean), стандартное отклонение (std), минималльные \n",
    "#значения (min), количество значений, которые попадают в 25%, 50%, 75% и максимальное значение."
   ]
  },
  {
   "cell_type": "code",
   "execution_count": 13,
   "metadata": {},
   "outputs": [],
   "source": [
    "# Outliers\n",
    "Act_Pow = []\n",
    "for ap in df['ActualPower']:\n",
    "    if ap > round(df['ActualPower'].mean() + 3 * df['ActualPower'].std()):\n",
    "        ap = round(df['ActualPower'].mean() + 3*df['ActualPower'].std())\n",
    "    elif ap < round(df['ActualPower'].mean()-3*df['ActualPower'].std(), 1):\n",
    "        ap = round(df['ActualPower'].mean()-3*df['ActualPower'].std(), 1)\n",
    "    Act_Pow.append(ap)\n",
    "df['ActualPower']  = Act_Pow\n",
    "\n",
    "Max_Cap = []\n",
    "for mx in df['Max Capacity']:\n",
    "    if mx > round(df['Max Capacity'].mean() + 3 * df['Max Capacity'].std()):\n",
    "        mx = round(df['Max Capacity'].mean() + 3*df['Max Capacity'].std())\n",
    "    elif mx < round(df['Max Capacity'].mean()-3*df['Max Capacity'].std(), 1):\n",
    "        mx = round(df['Max Capacity'].mean()-3*df['Max Capacity'].std(), 1)\n",
    "    Max_Cap.append(mx)\n",
    "df['Max Capacity']  = Max_Cap\n",
    "\n",
    "Loc_2 = []\n",
    "for l2 in df['Location 2']:\n",
    "    if l2 > round(df['Location 2'].mean() + 3 * df['Location 2'].std()):\n",
    "        l2 = round(df['Location 2'].mean() + 3*df['Location 2'].std())\n",
    "    elif l2 < round(df['Location 2'].mean()-3*df['Location 2'].std(), 1):\n",
    "        l2 = round(df['Location 2'].mean()-3*df['Location 2'].std(), 1)\n",
    "    Loc_2.append(l2)\n",
    "df['Location 2']  = Loc_2\n",
    "\n",
    "Loc_4 = []\n",
    "for l4 in df['Location 4']:\n",
    "    if l4 > round(df['Location 4'].mean() + 3 * df['Location 4'].std()):\n",
    "        l4 = round(df['Location 4'].mean() + 3*df['Location 4'].std())\n",
    "    elif l4 < round(df['Location 4'].mean()-3*df['Location 4'].std(), 1):\n",
    "        l4 = round(df['Location 4'].mean()-3*df['Location 4'].std(), 1)\n",
    "    Loc_4.append(l4)\n",
    "df['Location 4']  = Loc_4\n",
    "\n",
    "Loc_6 = []\n",
    "for l6 in df['Location 6']:\n",
    "    if l6 > round(df['Location 6'].mean() + 3 * df['Location 6'].std()):\n",
    "        l6 = round(df['Location 6'].mean() + 3*df['Location 6'].std())\n",
    "    elif l6 < round(df['Location 6'].mean()-3*df['Location 6'].std(), 1):\n",
    "        l6 = round(df['Location 6'].mean()-3*df['Location 6'].std(), 1)\n",
    "    Loc_6.append(l6)\n",
    "df['Location 6']  = Loc_6\n",
    "\n",
    "Loc_8 = []\n",
    "for l8 in df['Location 8']:\n",
    "    if l8 > round(df['Location 8'].mean() + 3 * df['Location 8'].std()):\n",
    "        l8 = round(df['Location 8'].mean() + 3*df['Location 8'].std())\n",
    "    elif l8 < round(df['Location 8'].mean()-3*df['Location 8'].std(), 1):\n",
    "        l8 = round(df['Location 8'].mean()-3*df['Location 8'].std(), 1)\n",
    "    Loc_8.append(l8)\n",
    "df['Location 8']  = Loc_8"
   ]
  },
  {
   "cell_type": "code",
   "execution_count": 14,
   "metadata": {},
   "outputs": [
    {
     "data": {
      "text/html": [
       "<div>\n",
       "<style scoped>\n",
       "    .dataframe tbody tr th:only-of-type {\n",
       "        vertical-align: middle;\n",
       "    }\n",
       "\n",
       "    .dataframe tbody tr th {\n",
       "        vertical-align: top;\n",
       "    }\n",
       "\n",
       "    .dataframe thead th {\n",
       "        text-align: right;\n",
       "    }\n",
       "</style>\n",
       "<table border=\"1\" class=\"dataframe\">\n",
       "  <thead>\n",
       "    <tr style=\"text-align: right;\">\n",
       "      <th></th>\n",
       "      <th>ActualPower</th>\n",
       "      <th>Max Capacity</th>\n",
       "      <th>Location 2</th>\n",
       "      <th>Location 4</th>\n",
       "      <th>Location 6</th>\n",
       "      <th>Location 8</th>\n",
       "    </tr>\n",
       "  </thead>\n",
       "  <tbody>\n",
       "    <tr>\n",
       "      <th>count</th>\n",
       "      <td>317.00000</td>\n",
       "      <td>316.000000</td>\n",
       "      <td>316.000000</td>\n",
       "      <td>317.000000</td>\n",
       "      <td>315.000000</td>\n",
       "      <td>317.000000</td>\n",
       "    </tr>\n",
       "    <tr>\n",
       "      <th>mean</th>\n",
       "      <td>16.72524</td>\n",
       "      <td>43.113291</td>\n",
       "      <td>7.445636</td>\n",
       "      <td>7.445454</td>\n",
       "      <td>7.196924</td>\n",
       "      <td>6.420155</td>\n",
       "    </tr>\n",
       "    <tr>\n",
       "      <th>std</th>\n",
       "      <td>11.14796</td>\n",
       "      <td>0.778754</td>\n",
       "      <td>2.783400</td>\n",
       "      <td>2.740947</td>\n",
       "      <td>2.707073</td>\n",
       "      <td>2.633336</td>\n",
       "    </tr>\n",
       "    <tr>\n",
       "      <th>min</th>\n",
       "      <td>0.02200</td>\n",
       "      <td>40.800000</td>\n",
       "      <td>0.718000</td>\n",
       "      <td>0.812000</td>\n",
       "      <td>0.670000</td>\n",
       "      <td>0.000000</td>\n",
       "    </tr>\n",
       "    <tr>\n",
       "      <th>25%</th>\n",
       "      <td>8.04800</td>\n",
       "      <td>42.000000</td>\n",
       "      <td>7.065750</td>\n",
       "      <td>7.029000</td>\n",
       "      <td>6.874500</td>\n",
       "      <td>5.453000</td>\n",
       "    </tr>\n",
       "    <tr>\n",
       "      <th>50%</th>\n",
       "      <td>15.50300</td>\n",
       "      <td>43.500000</td>\n",
       "      <td>8.017500</td>\n",
       "      <td>8.158000</td>\n",
       "      <td>7.842000</td>\n",
       "      <td>6.865000</td>\n",
       "    </tr>\n",
       "    <tr>\n",
       "      <th>75%</th>\n",
       "      <td>26.47500</td>\n",
       "      <td>43.500000</td>\n",
       "      <td>9.082000</td>\n",
       "      <td>9.073000</td>\n",
       "      <td>8.685500</td>\n",
       "      <td>7.903000</td>\n",
       "    </tr>\n",
       "    <tr>\n",
       "      <th>max</th>\n",
       "      <td>40.30300</td>\n",
       "      <td>45.000000</td>\n",
       "      <td>13.449000</td>\n",
       "      <td>13.118000</td>\n",
       "      <td>13.018000</td>\n",
       "      <td>13.014000</td>\n",
       "    </tr>\n",
       "  </tbody>\n",
       "</table>\n",
       "</div>"
      ],
      "text/plain": [
       "       ActualPower  Max Capacity  Location 2  Location 4  Location 6  \\\n",
       "count    317.00000    316.000000  316.000000  317.000000  315.000000   \n",
       "mean      16.72524     43.113291    7.445636    7.445454    7.196924   \n",
       "std       11.14796      0.778754    2.783400    2.740947    2.707073   \n",
       "min        0.02200     40.800000    0.718000    0.812000    0.670000   \n",
       "25%        8.04800     42.000000    7.065750    7.029000    6.874500   \n",
       "50%       15.50300     43.500000    8.017500    8.158000    7.842000   \n",
       "75%       26.47500     43.500000    9.082000    9.073000    8.685500   \n",
       "max       40.30300     45.000000   13.449000   13.118000   13.018000   \n",
       "\n",
       "       Location 8  \n",
       "count  317.000000  \n",
       "mean     6.420155  \n",
       "std      2.633336  \n",
       "min      0.000000  \n",
       "25%      5.453000  \n",
       "50%      6.865000  \n",
       "75%      7.903000  \n",
       "max     13.014000  "
      ]
     },
     "execution_count": 14,
     "metadata": {},
     "output_type": "execute_result"
    }
   ],
   "source": [
    "# Descriptive Statistics\n",
    "df.describe()"
   ]
  },
  {
   "cell_type": "code",
   "execution_count": 15,
   "metadata": {},
   "outputs": [
    {
     "name": "stdout",
     "output_type": "stream",
     "text": [
      "ActualPower     0\n",
      "Max Capacity    1\n",
      "Location 2      1\n",
      "Location 4      0\n",
      "Location 6      2\n",
      "Location 8      0\n",
      "dtype: int64\n"
     ]
    }
   ],
   "source": [
    "# Cheking NaN\n",
    "nan_by_column=df.isnull().sum()\n",
    "print(nan_by_column)"
   ]
  },
  {
   "cell_type": "code",
   "execution_count": 16,
   "metadata": {},
   "outputs": [],
   "source": [
    "#Делаем вывод, что пропущенные значения присутствуют в переменных Max Capacity, Location 2 и Location 6 . Пропущенные значения \n",
    "#заменим на средние значения соответсвующих признаков."
   ]
  },
  {
   "cell_type": "code",
   "execution_count": 17,
   "metadata": {},
   "outputs": [],
   "source": [
    "# Taking care of missing data\n",
    "from sklearn.impute import SimpleImputer\n",
    "df[['Max Capacity']] = SimpleImputer(missing_values=np.nan, strategy='mean').fit_transform(df[['Max Capacity']])\n",
    "df[['Location 2']] = SimpleImputer(missing_values=np.nan, strategy='mean').fit_transform(df[['Location 2']])\n",
    "df[['Location 6']] = SimpleImputer(missing_values=np.nan, strategy='mean').fit_transform(df[['Location 6']])"
   ]
  },
  {
   "cell_type": "code",
   "execution_count": 18,
   "metadata": {},
   "outputs": [
    {
     "data": {
      "text/html": [
       "<div>\n",
       "<style scoped>\n",
       "    .dataframe tbody tr th:only-of-type {\n",
       "        vertical-align: middle;\n",
       "    }\n",
       "\n",
       "    .dataframe tbody tr th {\n",
       "        vertical-align: top;\n",
       "    }\n",
       "\n",
       "    .dataframe thead th {\n",
       "        text-align: right;\n",
       "    }\n",
       "</style>\n",
       "<table border=\"1\" class=\"dataframe\">\n",
       "  <thead>\n",
       "    <tr style=\"text-align: right;\">\n",
       "      <th></th>\n",
       "      <th>ActualPower</th>\n",
       "      <th>Max Capacity</th>\n",
       "      <th>Location 2</th>\n",
       "      <th>Location 4</th>\n",
       "      <th>Location 6</th>\n",
       "      <th>Location 8</th>\n",
       "    </tr>\n",
       "  </thead>\n",
       "  <tbody>\n",
       "    <tr>\n",
       "      <th>0</th>\n",
       "      <td>8.491</td>\n",
       "      <td>43.5</td>\n",
       "      <td>0.718</td>\n",
       "      <td>0.970</td>\n",
       "      <td>0.874000</td>\n",
       "      <td>0.902</td>\n",
       "    </tr>\n",
       "    <tr>\n",
       "      <th>1</th>\n",
       "      <td>11.232</td>\n",
       "      <td>43.5</td>\n",
       "      <td>0.776</td>\n",
       "      <td>1.072</td>\n",
       "      <td>0.975000</td>\n",
       "      <td>0.985</td>\n",
       "    </tr>\n",
       "    <tr>\n",
       "      <th>2</th>\n",
       "      <td>8.989</td>\n",
       "      <td>43.5</td>\n",
       "      <td>0.862</td>\n",
       "      <td>1.240</td>\n",
       "      <td>1.122000</td>\n",
       "      <td>1.103</td>\n",
       "    </tr>\n",
       "    <tr>\n",
       "      <th>3</th>\n",
       "      <td>5.969</td>\n",
       "      <td>43.5</td>\n",
       "      <td>0.984</td>\n",
       "      <td>1.448</td>\n",
       "      <td>1.296000</td>\n",
       "      <td>1.230</td>\n",
       "    </tr>\n",
       "    <tr>\n",
       "      <th>4</th>\n",
       "      <td>4.637</td>\n",
       "      <td>43.5</td>\n",
       "      <td>1.116</td>\n",
       "      <td>1.627</td>\n",
       "      <td>1.440000</td>\n",
       "      <td>1.308</td>\n",
       "    </tr>\n",
       "    <tr>\n",
       "      <th>...</th>\n",
       "      <td>...</td>\n",
       "      <td>...</td>\n",
       "      <td>...</td>\n",
       "      <td>...</td>\n",
       "      <td>...</td>\n",
       "      <td>...</td>\n",
       "    </tr>\n",
       "    <tr>\n",
       "      <th>312</th>\n",
       "      <td>27.630</td>\n",
       "      <td>43.5</td>\n",
       "      <td>5.644</td>\n",
       "      <td>5.716</td>\n",
       "      <td>5.061000</td>\n",
       "      <td>4.836</td>\n",
       "    </tr>\n",
       "    <tr>\n",
       "      <th>313</th>\n",
       "      <td>26.432</td>\n",
       "      <td>43.5</td>\n",
       "      <td>6.042</td>\n",
       "      <td>6.137</td>\n",
       "      <td>5.157000</td>\n",
       "      <td>4.750</td>\n",
       "    </tr>\n",
       "    <tr>\n",
       "      <th>314</th>\n",
       "      <td>27.282</td>\n",
       "      <td>43.5</td>\n",
       "      <td>6.573</td>\n",
       "      <td>6.747</td>\n",
       "      <td>7.196924</td>\n",
       "      <td>4.716</td>\n",
       "    </tr>\n",
       "    <tr>\n",
       "      <th>315</th>\n",
       "      <td>28.285</td>\n",
       "      <td>43.5</td>\n",
       "      <td>7.268</td>\n",
       "      <td>7.558</td>\n",
       "      <td>5.693000</td>\n",
       "      <td>4.856</td>\n",
       "    </tr>\n",
       "    <tr>\n",
       "      <th>316</th>\n",
       "      <td>24.898</td>\n",
       "      <td>43.5</td>\n",
       "      <td>8.045</td>\n",
       "      <td>8.475</td>\n",
       "      <td>6.226000</td>\n",
       "      <td>5.056</td>\n",
       "    </tr>\n",
       "  </tbody>\n",
       "</table>\n",
       "<p>317 rows × 6 columns</p>\n",
       "</div>"
      ],
      "text/plain": [
       "     ActualPower  Max Capacity  Location 2  Location 4  Location 6  Location 8\n",
       "0          8.491          43.5       0.718       0.970    0.874000       0.902\n",
       "1         11.232          43.5       0.776       1.072    0.975000       0.985\n",
       "2          8.989          43.5       0.862       1.240    1.122000       1.103\n",
       "3          5.969          43.5       0.984       1.448    1.296000       1.230\n",
       "4          4.637          43.5       1.116       1.627    1.440000       1.308\n",
       "..           ...           ...         ...         ...         ...         ...\n",
       "312       27.630          43.5       5.644       5.716    5.061000       4.836\n",
       "313       26.432          43.5       6.042       6.137    5.157000       4.750\n",
       "314       27.282          43.5       6.573       6.747    7.196924       4.716\n",
       "315       28.285          43.5       7.268       7.558    5.693000       4.856\n",
       "316       24.898          43.5       8.045       8.475    6.226000       5.056\n",
       "\n",
       "[317 rows x 6 columns]"
      ]
     },
     "execution_count": 18,
     "metadata": {},
     "output_type": "execute_result"
    }
   ],
   "source": [
    "df"
   ]
  },
  {
   "cell_type": "code",
   "execution_count": 19,
   "metadata": {},
   "outputs": [
    {
     "data": {
      "text/html": [
       "<div>\n",
       "<style scoped>\n",
       "    .dataframe tbody tr th:only-of-type {\n",
       "        vertical-align: middle;\n",
       "    }\n",
       "\n",
       "    .dataframe tbody tr th {\n",
       "        vertical-align: top;\n",
       "    }\n",
       "\n",
       "    .dataframe thead th {\n",
       "        text-align: right;\n",
       "    }\n",
       "</style>\n",
       "<table border=\"1\" class=\"dataframe\">\n",
       "  <thead>\n",
       "    <tr style=\"text-align: right;\">\n",
       "      <th></th>\n",
       "      <th>ActualPower</th>\n",
       "      <th>Max Capacity</th>\n",
       "      <th>Location 2</th>\n",
       "      <th>Location 4</th>\n",
       "      <th>Location 6</th>\n",
       "      <th>Location 8</th>\n",
       "    </tr>\n",
       "  </thead>\n",
       "  <tbody>\n",
       "    <tr>\n",
       "      <th>count</th>\n",
       "      <td>317.00000</td>\n",
       "      <td>317.000000</td>\n",
       "      <td>317.000000</td>\n",
       "      <td>317.000000</td>\n",
       "      <td>317.000000</td>\n",
       "      <td>317.000000</td>\n",
       "    </tr>\n",
       "    <tr>\n",
       "      <th>mean</th>\n",
       "      <td>16.72524</td>\n",
       "      <td>43.113291</td>\n",
       "      <td>7.445636</td>\n",
       "      <td>7.445454</td>\n",
       "      <td>7.196924</td>\n",
       "      <td>6.420155</td>\n",
       "    </tr>\n",
       "    <tr>\n",
       "      <th>std</th>\n",
       "      <td>11.14796</td>\n",
       "      <td>0.777521</td>\n",
       "      <td>2.778993</td>\n",
       "      <td>2.740947</td>\n",
       "      <td>2.698493</td>\n",
       "      <td>2.633336</td>\n",
       "    </tr>\n",
       "    <tr>\n",
       "      <th>min</th>\n",
       "      <td>0.02200</td>\n",
       "      <td>40.800000</td>\n",
       "      <td>0.718000</td>\n",
       "      <td>0.812000</td>\n",
       "      <td>0.670000</td>\n",
       "      <td>0.000000</td>\n",
       "    </tr>\n",
       "    <tr>\n",
       "      <th>25%</th>\n",
       "      <td>8.04800</td>\n",
       "      <td>42.000000</td>\n",
       "      <td>7.066000</td>\n",
       "      <td>7.029000</td>\n",
       "      <td>6.883000</td>\n",
       "      <td>5.453000</td>\n",
       "    </tr>\n",
       "    <tr>\n",
       "      <th>50%</th>\n",
       "      <td>15.50300</td>\n",
       "      <td>43.500000</td>\n",
       "      <td>8.010000</td>\n",
       "      <td>8.158000</td>\n",
       "      <td>7.834000</td>\n",
       "      <td>6.865000</td>\n",
       "    </tr>\n",
       "    <tr>\n",
       "      <th>75%</th>\n",
       "      <td>26.47500</td>\n",
       "      <td>43.500000</td>\n",
       "      <td>9.081000</td>\n",
       "      <td>9.073000</td>\n",
       "      <td>8.677000</td>\n",
       "      <td>7.903000</td>\n",
       "    </tr>\n",
       "    <tr>\n",
       "      <th>max</th>\n",
       "      <td>40.30300</td>\n",
       "      <td>45.000000</td>\n",
       "      <td>13.449000</td>\n",
       "      <td>13.118000</td>\n",
       "      <td>13.018000</td>\n",
       "      <td>13.014000</td>\n",
       "    </tr>\n",
       "  </tbody>\n",
       "</table>\n",
       "</div>"
      ],
      "text/plain": [
       "       ActualPower  Max Capacity  Location 2  Location 4  Location 6  \\\n",
       "count    317.00000    317.000000  317.000000  317.000000  317.000000   \n",
       "mean      16.72524     43.113291    7.445636    7.445454    7.196924   \n",
       "std       11.14796      0.777521    2.778993    2.740947    2.698493   \n",
       "min        0.02200     40.800000    0.718000    0.812000    0.670000   \n",
       "25%        8.04800     42.000000    7.066000    7.029000    6.883000   \n",
       "50%       15.50300     43.500000    8.010000    8.158000    7.834000   \n",
       "75%       26.47500     43.500000    9.081000    9.073000    8.677000   \n",
       "max       40.30300     45.000000   13.449000   13.118000   13.018000   \n",
       "\n",
       "       Location 8  \n",
       "count  317.000000  \n",
       "mean     6.420155  \n",
       "std      2.633336  \n",
       "min      0.000000  \n",
       "25%      5.453000  \n",
       "50%      6.865000  \n",
       "75%      7.903000  \n",
       "max     13.014000  "
      ]
     },
     "execution_count": 19,
     "metadata": {},
     "output_type": "execute_result"
    }
   ],
   "source": [
    "# Descriptive Statistics\n",
    "df.describe()"
   ]
  },
  {
   "cell_type": "code",
   "execution_count": 20,
   "metadata": {},
   "outputs": [],
   "source": [
    "# Exporting the dataset\n",
    "df.to_csv('nt_var4_prep.csv', sep=';', index=False)"
   ]
  }
 ],
 "metadata": {
  "kernelspec": {
   "display_name": "Python 3",
   "language": "python",
   "name": "python3"
  },
  "language_info": {
   "codemirror_mode": {
    "name": "ipython",
    "version": 3
   },
   "file_extension": ".py",
   "mimetype": "text/x-python",
   "name": "python",
   "nbconvert_exporter": "python",
   "pygments_lexer": "ipython3",
   "version": "3.8.3"
  }
 },
 "nbformat": 4,
 "nbformat_minor": 4
}
